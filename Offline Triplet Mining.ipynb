{
  "nbformat": 4,
  "nbformat_minor": 0,
  "metadata": {
    "colab": {
      "name": "Siamese - Fashion Mnist.ipynb",
      "provenance": [],
      "collapsed_sections": [],
      "toc_visible": true,
      "include_colab_link": true
    },
    "kernelspec": {
      "name": "python3",
      "display_name": "Python 3",
      "language": "python"
    },
    "accelerator": "GPU"
  },
  "cells": [
    {
      "source": [
        "<a href=\"https://colab.research.google.com/github/eroj333/learning-cv-ml/blob/master/SNN/Offline%20Triplet%20Mining.ipynb\" target=\"_parent\"><img src=\"https://colab.research.google.com/assets/colab-badge.svg\" alt=\"Open In Colab\"/></a>\n",
        "\n",
        "https://github.com/eroj333/learning-cv-ml/tree/master/SNN"
      ],
      "cell_type": "code",
      "metadata": {
        "id": "view-in-github",
        "colab_type": "text"
      },
      "execution_count": 1,
      "outputs": [
        {
          "output_type": "error",
          "ename": "SyntaxError",
          "evalue": "invalid syntax (<ipython-input-1-95aab1c09676>, line 1)",
          "traceback": [
            "\u001b[1;36m  File \u001b[1;32m\"<ipython-input-1-95aab1c09676>\"\u001b[1;36m, line \u001b[1;32m1\u001b[0m\n\u001b[1;33m    <a href=\"https://colab.research.google.com/github/eroj333/learning-cv-ml/blob/master/SNN/Offline%20Triplet%20Mining.ipynb\" target=\"_parent\"><img src=\"https://colab.research.google.com/assets/colab-badge.svg\" alt=\"Open In Colab\"/></a>\u001b[0m\n\u001b[1;37m    ^\u001b[0m\n\u001b[1;31mSyntaxError\u001b[0m\u001b[1;31m:\u001b[0m invalid syntax\n"
          ]
        }
      ]
    },
    {
      "cell_type": "code",
      "metadata": {
        "id": "4E6B7BbMyfbj",
        "colab_type": "code",
        "outputId": "7b7cb4eb-cde5-4803-9296-688683c9666c",
        "colab": {
          "base_uri": "https://localhost:8080/",
          "height": 35
        }
      },
      "source": [
        "import keras as k\n",
        "import keras.backend as K\n",
        "import numpy as np \n",
        "from keras.layers import *\n",
        "from keras.models import Sequential, Model\n",
        "from keras.regularizers import l2\n",
        "import matplotlib.pyplot as plt\n",
        "from keras.optimizers import Adam, Adadelta\n",
        "from keras.applications.resnet50 import ResNet50, preprocess_input\n",
        "from keras.callbacks import ModelCheckpoint, EarlyStopping"
      ],
      "execution_count": 0,
      "outputs": [
        {
          "output_type": "stream",
          "text": [
            "Using TensorFlow backend.\n"
          ],
          "name": "stderr"
        }
      ]
    },
    {
      "cell_type": "code",
      "metadata": {
        "id": "4iKIAgpsyh28",
        "colab_type": "code",
        "colab": {}
      },
      "source": [
        "(x_train_master, y_train_master), (x_test_master, y_test_master) = k.datasets.fashion_mnist.load_data()\n",
        "x_train_master = x_train_master /  255\n",
        "x_test_master = x_test_master / 255"
      ],
      "execution_count": 0,
      "outputs": []
    },
    {
      "cell_type": "code",
      "metadata": {
        "id": "YHIP6vvaMguk",
        "colab_type": "code",
        "colab": {}
      },
      "source": [
        "x_train_master = np.expand_dims(x_train_master, 3)\n",
        "x_test_master = np.expand_dims(x_test_master, 3)"
      ],
      "execution_count": 0,
      "outputs": []
    },
    {
      "cell_type": "code",
      "metadata": {
        "id": "YH1ibN4xNpFy",
        "colab_type": "code",
        "outputId": "e2b96d17-cc5d-4137-c98b-36e32b1151b1",
        "colab": {
          "base_uri": "https://localhost:8080/",
          "height": 35
        }
      },
      "source": [
        "x_train_master.shape"
      ],
      "execution_count": 0,
      "outputs": [
        {
          "output_type": "execute_result",
          "data": {
            "text/plain": [
              "(60000, 28, 28, 1)"
            ]
          },
          "metadata": {
            "tags": []
          },
          "execution_count": 4
        }
      ]
    },
    {
      "cell_type": "code",
      "metadata": {
        "id": "hj-jCtea2Tdh",
        "colab_type": "code",
        "colab": {}
      },
      "source": [
        "y_train_master = y_train_master.flatten()\n",
        "y_test_master = y_test_master.flatten()"
      ],
      "execution_count": 0,
      "outputs": []
    },
    {
      "cell_type": "code",
      "metadata": {
        "id": "m3y6vlC5Q8ZE",
        "colab_type": "code",
        "colab": {}
      },
      "source": [
        "num_train_per_class = 1\n",
        "n_epochs = 10"
      ],
      "execution_count": 0,
      "outputs": []
    },
    {
      "cell_type": "code",
      "metadata": {
        "id": "lDG4HjBDz2sm",
        "colab_type": "code",
        "colab": {}
      },
      "source": [
        "def generate_triplets(dataset, label, sample_per_class=10):\n",
        "  x, y = None, None\n",
        "  for i in range(10):\n",
        "    pos_indices = np.argwhere(label == i)[:,0]\n",
        "    neg_indices = np.argwhere(label != i)[:,0]\n",
        "\n",
        "    # print(\"pos indices: {}, neg_indices: {}\".format(pos_indices.shape, neg_indices.shape))\n",
        "    choice_anchor = np.random.choice(pos_indices.shape[0], sample_per_class, replace=False)\n",
        "    choice_anchor = pos_indices[choice_anchor]\n",
        "\n",
        "    choice_pos = np.random.choice(pos_indices.shape[0], sample_per_class, replace=False)\n",
        "    choice_pos = pos_indices[choice_pos]\n",
        "\n",
        "    choice_neg = np.random.choice(neg_indices.shape[0], sample_per_class, replace=False)\n",
        "    choice_neg = neg_indices[choice_neg]\n",
        "\n",
        "    sub_x_anc = dataset[choice_anchor]\n",
        "    \n",
        "    sub_x_pos = dataset[choice_pos]\n",
        "\n",
        "    sub_x_neg = dataset[choice_neg]\n",
        "      \n",
        "        \n",
        "    if(x is None):\n",
        "      x = [(sub_x_anc), (sub_x_pos), (sub_x_neg)]\n",
        "      y = [label[choice_anchor], label[choice_pos], label[choice_neg]]\n",
        "    else:\n",
        "      x[0] = np.vstack((x[0], (sub_x_anc)))\n",
        "      x[1] = np.vstack((x[1], (sub_x_pos)))\n",
        "      x[2] = np.vstack((x[2], (sub_x_neg)))\n",
        "\n",
        "      y[0] = np.hstack((y[0].flatten(), label[choice_anchor].flatten()))\n",
        "      y[1] = np.hstack((y[1].flatten(), label[choice_pos].flatten()))\n",
        "      y[2] = np.hstack((y[2].flatten(), label[choice_neg].flatten()))\n",
        "    \n",
        "  return x, y"
      ],
      "execution_count": 0,
      "outputs": []
    },
    {
      "cell_type": "code",
      "metadata": {
        "id": "gaC17fTD2EOz",
        "colab_type": "code",
        "colab": {}
      },
      "source": [
        "train_x, train_y = generate_triplets(x_train_master, y_train_master)"
      ],
      "execution_count": 0,
      "outputs": []
    },
    {
      "cell_type": "code",
      "metadata": {
        "id": "994sxCFpN1M_",
        "colab_type": "code",
        "outputId": "211c5e9e-9ad5-467c-b1d9-ce6c4d17f81f",
        "colab": {
          "base_uri": "https://localhost:8080/",
          "height": 35
        }
      },
      "source": [
        "train_x[0].shape"
      ],
      "execution_count": 0,
      "outputs": [
        {
          "output_type": "execute_result",
          "data": {
            "text/plain": [
              "(100, 28, 28, 1)"
            ]
          },
          "metadata": {
            "tags": []
          },
          "execution_count": 9
        }
      ]
    },
    {
      "cell_type": "code",
      "metadata": {
        "id": "gTQSvPXV2e48",
        "colab_type": "code",
        "colab": {}
      },
      "source": [
        "def visualize_data(data, n):\n",
        "  n = min(len(data[0]), n)\n",
        "  random_choices = np.random.choice(len(data[0]),n, replace=False)\n",
        "  fig, ax = plt.subplots(n, 3,figsize=(10,40))\n",
        "  anc, pos, neg = data\n",
        "  for i,ch in enumerate(random_choices):\n",
        "    ax[i, 0].imshow(np.squeeze(anc[ch] ))\n",
        "    ax[i, 1].imshow(np.squeeze(pos[ch] ))\n",
        "    ax[i, 2].imshow(np.squeeze(neg[ch] ))\n",
        "    \n",
        "\n",
        "    ax[i, 0].set_axis_off()\n",
        "    ax[i, 1].set_axis_off()\n",
        "    ax[i, 2].set_axis_off()"
      ],
      "execution_count": 0,
      "outputs": []
    },
    {
      "cell_type": "code",
      "metadata": {
        "id": "NsEkl0Zx3pyN",
        "colab_type": "code",
        "outputId": "7f058fcf-944e-4012-b7a2-a3258cea22e6",
        "colab": {
          "base_uri": "https://localhost:8080/",
          "height": 1000
        }
      },
      "source": [
        "visualize_data(train_x, 10)"
      ],
      "execution_count": 0,
      "outputs": [
        {
          "output_type": "display_data",
          "data": {
            "image/png": "[encoded data removed]",
            "text/plain": [
              "<Figure size 720x2880 with 30 Axes>"
            ]
          },
          "metadata": {
            "tags": []
          }
        }
      ]
    },
    {
      "cell_type": "code",
      "metadata": {
        "id": "sj89cO8g5997",
        "colab_type": "code",
        "colab": {}
      },
      "source": [
        "train_x, train_y = generate_triplets(x_train_master, y_train_master, num_train_per_class)\n",
        "test_x, test_y = generate_triplets(x_test_master, y_test_master,5)"
      ],
      "execution_count": 0,
      "outputs": []
    },
    {
      "cell_type": "code",
      "metadata": {
        "id": "YriH-06myvL4",
        "colab_type": "code",
        "colab": {}
      },
      "source": [
        "def triplet_loss(inputs, dist='sqeuclidean', margin='maxplus'):\n",
        "    anchor, positive, negative = inputs\n",
        "    positive_distance = K.square(anchor - positive)\n",
        "    negative_distance = K.square(anchor - negative)\n",
        "    if dist == 'euclidean':\n",
        "        positive_distance = K.sqrt(K.sum(positive_distance, axis=-1, keepdims=True))\n",
        "        negative_distance = K.sqrt(K.sum(negative_distance, axis=-1, keepdims=True))\n",
        "    elif dist == 'sqeuclidean':\n",
        "        positive_distance = K.sum(positive_distance, axis=-1, keepdims=True)\n",
        "        negative_distance = K.sum(negative_distance, axis=-1, keepdims=True)\n",
        "    loss = positive_distance - negative_distance\n",
        "    if margin == 'maxplus':\n",
        "        loss = K.maximum(0.0, 1 + loss)\n",
        "    elif margin == 'softplus':\n",
        "        loss = K.log(1 + K.exp(loss))\n",
        "    return K.mean(loss)\n",
        "\n",
        "def get_embedding_model(input_shape, embedding_dim):\n",
        "    _input = Input(shape=input_shape)\n",
        "    x = Flatten()(_input)\n",
        "    x = Dense(embedding_dim * 4,activation=\"relu\")(x)\n",
        "    x = Dense(embedding_dim * 2, activation='relu')(x)\n",
        "    x = Dense(embedding_dim)(x)\n",
        "    return Model(_input, x)\n",
        "        \n",
        "\n",
        "def get_siamese_model(input_shape, triplet_margin=.3, embedding_dim=50):\n",
        "    \"\"\"\n",
        "        Model architecture\n",
        "    \"\"\"\n",
        "    \n",
        "    # Define the tensors for the triplet of input images\n",
        "    anchor_input = Input(input_shape, name=\"anchor_input\")\n",
        "    positive_input = Input(input_shape, name=\"positive_input\")\n",
        "    negative_input = Input(input_shape, name=\"negative_input\")\n",
        "    \n",
        "    # Convolutional Neural Network (same from earlier)\n",
        "    embedding_model = get_embedding_model(input_shape, embedding_dim)\n",
        "    \n",
        "    # Generate the embedding outputs \n",
        "    encoded_anchor = embedding_model(anchor_input)\n",
        "    encoded_positive = embedding_model(positive_input)\n",
        "    encoded_negative = embedding_model(negative_input)\n",
        "    \n",
        "    inputs = [anchor_input, positive_input, negative_input]\n",
        "    outputs = [encoded_anchor, encoded_positive, encoded_negative]\n",
        "    \n",
        "    # Connect the inputs with the outputs\n",
        "    siamese_triplet = Model(inputs=inputs,outputs=outputs)\n",
        "    \n",
        "    siamese_triplet.add_loss((triplet_loss(outputs, dist='euclidean', margin='maxplus')))\n",
        "    \n",
        "    # return the model\n",
        "    return embedding_model, siamese_triplet"
      ],
      "execution_count": 0,
      "outputs": []
    },
    {
      "cell_type": "markdown",
      "metadata": {
        "id": "8wbDFosCUIKN",
        "colab_type": "text"
      },
      "source": [
        "# Siamese NN trained on 9 classes\n"
      ]
    },
    {
      "cell_type": "code",
      "metadata": {
        "id": "kYiBhALJyv_q",
        "colab_type": "code",
        "outputId": "98a69817-7b00-4a78-9e19-6cd27a09fdc5",
        "colab": {
          "base_uri": "https://localhost:8080/",
          "height": 184
        }
      },
      "source": [
        "embedding_model, siamese_triplet = get_siamese_model((28,28,1), triplet_margin=.3, embedding_dim=150)\n",
        "siamese_triplet.compile(loss=None, optimizer=Adam(0.0001))"
      ],
      "execution_count": 0,
      "outputs": [
        {
          "output_type": "stream",
          "text": [
            "WARNING:tensorflow:From /usr/local/lib/python3.6/dist-packages/keras/backend/tensorflow_backend.py:541: The name tf.placeholder is deprecated. Please use tf.compat.v1.placeholder instead.\n",
            "\n",
            "WARNING:tensorflow:From /usr/local/lib/python3.6/dist-packages/keras/backend/tensorflow_backend.py:66: The name tf.get_default_graph is deprecated. Please use tf.compat.v1.get_default_graph instead.\n",
            "\n",
            "WARNING:tensorflow:From /usr/local/lib/python3.6/dist-packages/keras/backend/tensorflow_backend.py:4432: The name tf.random_uniform is deprecated. Please use tf.random.uniform instead.\n",
            "\n",
            "WARNING:tensorflow:From /usr/local/lib/python3.6/dist-packages/keras/optimizers.py:793: The name tf.train.Optimizer is deprecated. Please use tf.compat.v1.train.Optimizer instead.\n",
            "\n"
          ],
          "name": "stdout"
        }
      ]
    },
    {
      "cell_type": "code",
      "metadata": {
        "id": "gLBgXEdi50_K",
        "colab_type": "code",
        "outputId": "ed5c3a8a-8788-4ee1-816d-5179d748e88f",
        "colab": {
          "base_uri": "https://localhost:8080/",
          "height": 551
        }
      },
      "source": [
        "history = siamese_triplet.fit(x=train_x, shuffle=True, batch_size=1000,\n",
        "                              validation_split=.1, epochs=n_epochs)"
      ],
      "execution_count": 0,
      "outputs": [
        {
          "output_type": "stream",
          "text": [
            "WARNING:tensorflow:From /usr/local/lib/python3.6/dist-packages/tensorflow/python/ops/math_grad.py:1250: add_dispatch_support.<locals>.wrapper (from tensorflow.python.ops.array_ops) is deprecated and will be removed in a future version.\n",
            "Instructions for updating:\n",
            "Use tf.where in 2.0, which has the same broadcast rule as np.where\n",
            "WARNING:tensorflow:From /usr/local/lib/python3.6/dist-packages/keras/backend/tensorflow_backend.py:1033: The name tf.assign_add is deprecated. Please use tf.compat.v1.assign_add instead.\n",
            "\n",
            "WARNING:tensorflow:From /usr/local/lib/python3.6/dist-packages/keras/backend/tensorflow_backend.py:1020: The name tf.assign is deprecated. Please use tf.compat.v1.assign instead.\n",
            "\n",
            "Train on 9 samples, validate on 1 samples\n",
            "Epoch 1/10\n",
            "9/9 [==============================] - 1s 109ms/step - loss: 0.4179 - val_loss: 3.2297\n",
            "Epoch 2/10\n",
            "9/9 [==============================] - 0s 1ms/step - loss: 0.2106 - val_loss: 3.1707\n",
            "Epoch 3/10\n",
            "9/9 [==============================] - 0s 1ms/step - loss: 0.1059 - val_loss: 3.1031\n",
            "Epoch 4/10\n",
            "9/9 [==============================] - 0s 1ms/step - loss: 0.0380 - val_loss: 3.0381\n",
            "Epoch 5/10\n",
            "9/9 [==============================] - 0s 1ms/step - loss: 0.0000e+00 - val_loss: 2.9843\n",
            "Epoch 6/10\n",
            "9/9 [==============================] - 0s 1ms/step - loss: 0.0000e+00 - val_loss: 2.9382\n",
            "Epoch 7/10\n",
            "9/9 [==============================] - 0s 1ms/step - loss: 0.0000e+00 - val_loss: 2.8997\n",
            "Epoch 8/10\n",
            "9/9 [==============================] - 0s 1ms/step - loss: 0.0000e+00 - val_loss: 2.8668\n",
            "Epoch 9/10\n",
            "9/9 [==============================] - 0s 1ms/step - loss: 0.0000e+00 - val_loss: 2.8376\n",
            "Epoch 10/10\n",
            "9/9 [==============================] - 0s 1ms/step - loss: 0.0000e+00 - val_loss: 2.8132\n"
          ],
          "name": "stdout"
        }
      ]
    },
    {
      "cell_type": "code",
      "metadata": {
        "id": "GqdS6VCd6gcU",
        "colab_type": "code",
        "colab": {}
      },
      "source": [
        "train_embeds = embedding_model.predict(np.vstack((train_x[0], train_x[1], train_x[2])))"
      ],
      "execution_count": 0,
      "outputs": []
    },
    {
      "cell_type": "code",
      "metadata": {
        "id": "a3Vwc7vP8Wbo",
        "colab_type": "code",
        "colab": {}
      },
      "source": [
        "target = np.hstack((train_y[0], train_y[1], train_y[2]))"
      ],
      "execution_count": 0,
      "outputs": []
    },
    {
      "cell_type": "code",
      "metadata": {
        "id": "p8ZHvAx374zd",
        "colab_type": "code",
        "colab": {}
      },
      "source": [
        "from sklearn.neighbors import KNeighborsClassifier\n",
        "def fit_nearest_neighbor(img_encoding, img_class, algorithm='ball_tree'):\n",
        "  classifier = KNeighborsClassifier(n_neighbors=3, algorithm=algorithm)\n",
        "  classifier.fit(img_encoding, img_class)\n",
        "  return classifier"
      ],
      "execution_count": 0,
      "outputs": []
    },
    {
      "cell_type": "code",
      "metadata": {
        "id": "rGSPnb9i8T_O",
        "colab_type": "code",
        "colab": {}
      },
      "source": [
        "classifier = fit_nearest_neighbor(train_embeds, target)"
      ],
      "execution_count": 0,
      "outputs": []
    },
    {
      "cell_type": "code",
      "metadata": {
        "id": "WSaWvVOj8iEl",
        "colab_type": "code",
        "colab": {}
      },
      "source": [
        "e = embedding_model.predict(x_test_master)\n",
        "op = classifier.predict(e)"
      ],
      "execution_count": 0,
      "outputs": []
    },
    {
      "cell_type": "code",
      "metadata": {
        "id": "KWtj1IUG8ky2",
        "colab_type": "code",
        "colab": {}
      },
      "source": [
        "# classifier.score(e, y_test_master)\n",
        "# target = y_test_master.flatten()\n",
        "# (np.where(target == op))[0].shape"
      ],
      "execution_count": 0,
      "outputs": []
    },
    {
      "cell_type": "code",
      "metadata": {
        "id": "rzmTDKWN8mSE",
        "colab_type": "code",
        "outputId": "f1803173-3545-4a9c-9837-436dc4259866",
        "colab": {
          "base_uri": "https://localhost:8080/",
          "height": 35
        }
      },
      "source": [
        "(np.where(y_test_master == op))[0].shape[0] / y_test_master.shape[0]"
      ],
      "execution_count": 0,
      "outputs": [
        {
          "output_type": "execute_result",
          "data": {
            "text/plain": [
              "0.4902"
            ]
          },
          "metadata": {
            "tags": []
          },
          "execution_count": 22
        }
      ]
    },
    {
      "cell_type": "code",
      "metadata": {
        "id": "v5_0N5xw-ds9",
        "colab_type": "code",
        "colab": {}
      },
      "source": [
        "from sklearn.metrics import confusion_matrix\n",
        "mat = confusion_matrix(y_test_master, op)"
      ],
      "execution_count": 0,
      "outputs": []
    },
    {
      "cell_type": "code",
      "metadata": {
        "id": "_yvjfC3uJE9M",
        "colab_type": "code",
        "outputId": "4445415b-2e3e-48c2-c032-0c77be093e47",
        "colab": {
          "base_uri": "https://localhost:8080/",
          "height": 35
        }
      },
      "source": [
        "mat.diagonal()"
      ],
      "execution_count": 0,
      "outputs": [
        {
          "output_type": "execute_result",
          "data": {
            "text/plain": [
              "array([602, 891, 368,  77, 473, 460, 409, 898, 436, 288])"
            ]
          },
          "metadata": {
            "tags": []
          },
          "execution_count": 24
        }
      ]
    },
    {
      "cell_type": "markdown",
      "metadata": {
        "id": "-AQEtIgDT5ez",
        "colab_type": "text"
      },
      "source": [
        "# Classifier trained on 9 class"
      ]
    },
    {
      "cell_type": "code",
      "metadata": {
        "id": "7rp2BrPaJR1z",
        "colab_type": "code",
        "colab": {}
      },
      "source": [
        "def get_classification_model(input_shape, embedding_dim):\n",
        "  _inp = Input(input_shape, name=\"classifier_input\")\n",
        "  x = get_embedding_model(input_shape, embedding_dim)(_inp)\n",
        "  op = Dense(10, activation='softmax')(x)\n",
        "\n",
        "  return Model(inputs=_inp, outputs=op)"
      ],
      "execution_count": 0,
      "outputs": []
    },
    {
      "cell_type": "code",
      "metadata": {
        "id": "52azqcpaiVzm",
        "colab_type": "code",
        "colab": {}
      },
      "source": [
        "nn_classifier = get_classification_model((28,28,1), 150)\n",
        "nn_classifier.compile(loss=\"categorical_crossentropy\", optimizer=Adam(0.0001))"
      ],
      "execution_count": 0,
      "outputs": []
    },
    {
      "cell_type": "code",
      "metadata": {
        "id": "bFFrI57ni_AF",
        "colab_type": "code",
        "colab": {}
      },
      "source": [
        "def generate_classifier_data(dataset, label, sample_per_class=10):\n",
        "  x, y = None, None\n",
        "  for i in range(10):\n",
        "    pos_indices = np.argwhere(label == i)[:,0]\n",
        "\n",
        "    # print(\"pos indices: {}, neg_indices: {}\".format(pos_indices.shape, neg_indices.shape))\n",
        "    choice_anchor = np.random.choice(pos_indices.shape[0], sample_per_class, replace=False)\n",
        "    choice_anchor = pos_indices[choice_anchor]\n",
        "\n",
        "    sub_x_anc = dataset[choice_anchor]\n",
        "    \n",
        "        \n",
        "    if(x is None):\n",
        "      x = sub_x_anc\n",
        "      y = label[choice_anchor]\n",
        "    else:\n",
        "      x = np.vstack((x, (sub_x_anc)))\n",
        "\n",
        "      y = np.hstack((y.flatten(), label[choice_anchor].flatten()))\n",
        "    \n",
        "  return x, y"
      ],
      "execution_count": 0,
      "outputs": []
    },
    {
      "cell_type": "code",
      "metadata": {
        "id": "-8IxbFJdjx21",
        "colab_type": "code",
        "colab": {}
      },
      "source": [
        "classifier_train_x, classifier_train_y = generate_classifier_data(x_train_master, y_train_master, num_train_per_class)\n",
        "classifier_test_x, classifier_test_y = generate_classifier_data(x_test_master, y_test_master, 5)"
      ],
      "execution_count": 0,
      "outputs": []
    },
    {
      "cell_type": "code",
      "metadata": {
        "id": "2WcT_WM4kJXt",
        "colab_type": "code",
        "outputId": "02a1730c-2706-4caa-95e7-eb88edd59732",
        "colab": {
          "base_uri": "https://localhost:8080/",
          "height": 403
        }
      },
      "source": [
        "history = nn_classifier.fit(x=classifier_train_x, y=k.utils.to_categorical(classifier_train_y), shuffle=True, batch_size=1000,\n",
        "                              validation_split=.1, epochs=n_epochs)"
      ],
      "execution_count": 0,
      "outputs": [
        {
          "output_type": "stream",
          "text": [
            "Train on 9 samples, validate on 1 samples\n",
            "Epoch 1/10\n",
            "9/9 [==============================] - 0s 39ms/step - loss: 2.3229 - val_loss: 2.7871\n",
            "Epoch 2/10\n",
            "9/9 [==============================] - 0s 1ms/step - loss: 2.1392 - val_loss: 2.8996\n",
            "Epoch 3/10\n",
            "9/9 [==============================] - 0s 1ms/step - loss: 1.9787 - val_loss: 3.0173\n",
            "Epoch 4/10\n",
            "9/9 [==============================] - 0s 1ms/step - loss: 1.8354 - val_loss: 3.1359\n",
            "Epoch 5/10\n",
            "9/9 [==============================] - 0s 966us/step - loss: 1.7079 - val_loss: 3.2495\n",
            "Epoch 6/10\n",
            "9/9 [==============================] - 0s 937us/step - loss: 1.5956 - val_loss: 3.3562\n",
            "Epoch 7/10\n",
            "9/9 [==============================] - 0s 881us/step - loss: 1.4910 - val_loss: 3.4643\n",
            "Epoch 8/10\n",
            "9/9 [==============================] - 0s 1ms/step - loss: 1.3924 - val_loss: 3.5711\n",
            "Epoch 9/10\n",
            "9/9 [==============================] - 0s 1ms/step - loss: 1.3018 - val_loss: 3.6675\n",
            "Epoch 10/10\n",
            "9/9 [==============================] - 0s 1ms/step - loss: 1.2171 - val_loss: 3.7573\n"
          ],
          "name": "stdout"
        }
      ]
    },
    {
      "cell_type": "code",
      "metadata": {
        "id": "fTz2DfeukSnP",
        "colab_type": "code",
        "colab": {}
      },
      "source": [
        "op = nn_classifier.predict(x_test_master)"
      ],
      "execution_count": 0,
      "outputs": []
    },
    {
      "cell_type": "code",
      "metadata": {
        "id": "5JnAeV1HmYqm",
        "colab_type": "code",
        "outputId": "81bb036a-b0de-4868-cfd2-67030e7a4d97",
        "colab": {
          "base_uri": "https://localhost:8080/",
          "height": 35
        }
      },
      "source": [
        "pred = np.argmax(op, axis=1)\n",
        "pred"
      ],
      "execution_count": 0,
      "outputs": [
        {
          "output_type": "execute_result",
          "data": {
            "text/plain": [
              "array([8, 4, 3, ..., 6, 0, 0])"
            ]
          },
          "metadata": {
            "tags": []
          },
          "execution_count": 31
        }
      ]
    },
    {
      "cell_type": "code",
      "metadata": {
        "id": "EPiJLGv1kpNe",
        "colab_type": "code",
        "outputId": "f8a29a39-2a79-4da5-f5fc-741316107e6c",
        "colab": {
          "base_uri": "https://localhost:8080/",
          "height": 35
        }
      },
      "source": [
        "(np.where(y_test_master == pred))[0].shape[0] / y_test_master.shape[0]"
      ],
      "execution_count": 0,
      "outputs": [
        {
          "output_type": "execute_result",
          "data": {
            "text/plain": [
              "0.2713"
            ]
          },
          "metadata": {
            "tags": []
          },
          "execution_count": 32
        }
      ]
    },
    {
      "cell_type": "code",
      "metadata": {
        "id": "tPLVtremk220",
        "colab_type": "code",
        "outputId": "30c3bba2-68e6-45b4-d50f-665ee3451473",
        "colab": {
          "base_uri": "https://localhost:8080/",
          "height": 35
        }
      },
      "source": [
        "mat = confusion_matrix(y_test_master, pred)\n",
        "mat.diagonal()"
      ],
      "execution_count": 0,
      "outputs": [
        {
          "output_type": "execute_result",
          "data": {
            "text/plain": [
              "array([ 51, 119, 232, 532, 392, 196, 636, 369, 186,   0])"
            ]
          },
          "metadata": {
            "tags": []
          },
          "execution_count": 33
        }
      ]
    },
    {
      "cell_type": "code",
      "metadata": {
        "id": "i70BDK3wmN0f",
        "colab_type": "code",
        "colab": {}
      },
      "source": [],
      "execution_count": 0,
      "outputs": []
    },
    {
      "cell_type": "markdown",
      "metadata": {
        "id": "VLk5K23pT1Pu",
        "colab_type": "text"
      },
      "source": [
        "# Baseline NN on all classes"
      ]
    },
    {
      "cell_type": "code",
      "metadata": {
        "id": "fCEu5TA3OXF3",
        "colab_type": "code",
        "colab": {}
      },
      "source": [
        "### Data shuffle for training \n",
        "def shuffle_classifier_data(inputs, labels):\n",
        "  randomizer = np.random.choice(inputs.shape[0], inputs.shape[0], replace=False)\n",
        "  x = inputs[randomizer]\n",
        "  y = labels[randomizer]\n",
        "  return x, y"
      ],
      "execution_count": 0,
      "outputs": []
    },
    {
      "cell_type": "code",
      "metadata": {
        "id": "gBOGTZ-sO7cq",
        "colab_type": "code",
        "colab": {}
      },
      "source": [
        "classifier_train_x, classifier_train_y = shuffle_classifier_data(classifier_train_x, classifier_train_y)"
      ],
      "execution_count": 0,
      "outputs": []
    },
    {
      "cell_type": "code",
      "metadata": {
        "id": "pXdRAG4aPHHg",
        "colab_type": "code",
        "colab": {}
      },
      "source": [
        "nn_classifier2 = get_classification_model((28,28,1), 150)\n",
        "nn_classifier2.compile(loss=\"categorical_crossentropy\", optimizer=Adam(0.0001))"
      ],
      "execution_count": 0,
      "outputs": []
    },
    {
      "cell_type": "code",
      "metadata": {
        "id": "03eUpva2POLV",
        "colab_type": "code",
        "outputId": "808fdc5b-7f02-4965-b1f0-6c490ac876f7",
        "colab": {
          "base_uri": "https://localhost:8080/",
          "height": 403
        }
      },
      "source": [
        "history = nn_classifier2.fit(x=classifier_train_x, y=k.utils.to_categorical(classifier_train_y), shuffle=True, batch_size=1000,\n",
        "                              validation_split=.1, epochs=n_epochs)"
      ],
      "execution_count": 0,
      "outputs": [
        {
          "output_type": "stream",
          "text": [
            "Train on 9 samples, validate on 1 samples\n",
            "Epoch 1/10\n",
            "9/9 [==============================] - 0s 51ms/step - loss: 2.5757 - val_loss: 2.5053\n",
            "Epoch 2/10\n",
            "9/9 [==============================] - 0s 1ms/step - loss: 2.3668 - val_loss: 2.5510\n",
            "Epoch 3/10\n",
            "9/9 [==============================] - 0s 1ms/step - loss: 2.1775 - val_loss: 2.6021\n",
            "Epoch 4/10\n",
            "9/9 [==============================] - 0s 1ms/step - loss: 2.0059 - val_loss: 2.6572\n",
            "Epoch 5/10\n",
            "9/9 [==============================] - 0s 1ms/step - loss: 1.8542 - val_loss: 2.7194\n",
            "Epoch 6/10\n",
            "9/9 [==============================] - 0s 1ms/step - loss: 1.7204 - val_loss: 2.7847\n",
            "Epoch 7/10\n",
            "9/9 [==============================] - 0s 1ms/step - loss: 1.6028 - val_loss: 2.8628\n",
            "Epoch 8/10\n",
            "9/9 [==============================] - 0s 1ms/step - loss: 1.4969 - val_loss: 2.9442\n",
            "Epoch 9/10\n",
            "9/9 [==============================] - 0s 1ms/step - loss: 1.4006 - val_loss: 3.0256\n",
            "Epoch 10/10\n",
            "9/9 [==============================] - 0s 1ms/step - loss: 1.3119 - val_loss: 3.1045\n"
          ],
          "name": "stdout"
        }
      ]
    },
    {
      "cell_type": "code",
      "metadata": {
        "id": "Do7fOT0VPTib",
        "colab_type": "code",
        "outputId": "5edcf241-3077-4a7f-ed40-9161c5428590",
        "colab": {
          "base_uri": "https://localhost:8080/",
          "height": 35
        }
      },
      "source": [
        "op2 = nn_classifier2.predict(x_test_master)\n",
        "pred2 = np.argmax(op2, axis=1)\n",
        "(np.where(y_test_master == pred2))[0].shape[0] / y_test_master.shape[0]"
      ],
      "execution_count": 0,
      "outputs": [
        {
          "output_type": "execute_result",
          "data": {
            "text/plain": [
              "0.3494"
            ]
          },
          "metadata": {
            "tags": []
          },
          "execution_count": 38
        }
      ]
    },
    {
      "cell_type": "code",
      "metadata": {
        "id": "mbNjSg2qPdIc",
        "colab_type": "code",
        "outputId": "196f9b7b-5771-4732-d018-bcbc3c0ec032",
        "colab": {
          "base_uri": "https://localhost:8080/",
          "height": 35
        }
      },
      "source": [
        "mat = confusion_matrix(y_test_master, pred2)\n",
        "mat.diagonal()"
      ],
      "execution_count": 0,
      "outputs": [
        {
          "output_type": "execute_result",
          "data": {
            "text/plain": [
              "array([  0, 576, 330, 443, 803,  35, 176, 236,  24, 871])"
            ]
          },
          "metadata": {
            "tags": []
          },
          "execution_count": 39
        }
      ]
    },
    {
      "cell_type": "markdown",
      "metadata": {
        "id": "K5L5fkP0TsG8",
        "colab_type": "text"
      },
      "source": [
        "# Siamese NN trained on all classes"
      ]
    },
    {
      "cell_type": "code",
      "metadata": {
        "id": "k4XDxcxYS2m8",
        "colab_type": "code",
        "colab": {}
      },
      "source": [
        "def shuffle_triplets(inputs, labels):\n",
        "  a, p, n = inputs\n",
        "  l1, l2, l3 = labels\n",
        "  randomizer = np.random.choice(a.shape[0], a.shape[0], replace=False)\n",
        "  a = a[randomizer]\n",
        "  p = p[randomizer]\n",
        "  n = n[randomizer]\n",
        "\n",
        "  l1 = l1[randomizer]\n",
        "  l2 = l2[randomizer]\n",
        "  l3 = l3[randomizer]\n",
        "  return [a, p, n], [l1,l2,l3]"
      ],
      "execution_count": 0,
      "outputs": []
    },
    {
      "cell_type": "code",
      "metadata": {
        "id": "55eKWdSsU5sM",
        "colab_type": "code",
        "colab": {}
      },
      "source": [
        "train_x, train_y = shuffle_triplets(train_x, train_y)"
      ],
      "execution_count": 0,
      "outputs": []
    },
    {
      "cell_type": "code",
      "metadata": {
        "id": "xTNyt7BqTMGm",
        "colab_type": "code",
        "outputId": "13b04928-1690-4360-c5c5-f916cdc977e4",
        "colab": {
          "base_uri": "https://localhost:8080/",
          "height": 403
        }
      },
      "source": [
        "embedding_model2, siamese_triplet2 = get_siamese_model((28,28,1), triplet_margin=.3, embedding_dim=150)\n",
        "siamese_triplet2.compile(loss=None, optimizer=Adam(0.0001))\n",
        "history_s2 = siamese_triplet2.fit(x=train_x, shuffle=True, batch_size=1000,\n",
        "                              validation_split=.1, epochs=n_epochs)"
      ],
      "execution_count": 0,
      "outputs": [
        {
          "output_type": "stream",
          "text": [
            "Train on 9 samples, validate on 1 samples\n",
            "Epoch 1/10\n",
            "9/9 [==============================] - 0s 49ms/step - loss: 0.6772 - val_loss: 0.9643\n",
            "Epoch 2/10\n",
            "9/9 [==============================] - 0s 2ms/step - loss: 0.4646 - val_loss: 0.9030\n",
            "Epoch 3/10\n",
            "9/9 [==============================] - 0s 1ms/step - loss: 0.3126 - val_loss: 0.8500\n",
            "Epoch 4/10\n",
            "9/9 [==============================] - 0s 1ms/step - loss: 0.1686 - val_loss: 0.7989\n",
            "Epoch 5/10\n",
            "9/9 [==============================] - 0s 1ms/step - loss: 0.0558 - val_loss: 0.7449\n",
            "Epoch 6/10\n",
            "9/9 [==============================] - 0s 1ms/step - loss: 0.0000e+00 - val_loss: 0.6950\n",
            "Epoch 7/10\n",
            "9/9 [==============================] - 0s 1ms/step - loss: 0.0000e+00 - val_loss: 0.6469\n",
            "Epoch 8/10\n",
            "9/9 [==============================] - 0s 1ms/step - loss: 0.0000e+00 - val_loss: 0.6039\n",
            "Epoch 9/10\n",
            "9/9 [==============================] - 0s 1ms/step - loss: 0.0000e+00 - val_loss: 0.5659\n",
            "Epoch 10/10\n",
            "9/9 [==============================] - 0s 1ms/step - loss: 0.0000e+00 - val_loss: 0.5305\n"
          ],
          "name": "stdout"
        }
      ]
    },
    {
      "cell_type": "code",
      "metadata": {
        "colab_type": "code",
        "id": "zxpXvHBqTm4l",
        "colab": {}
      },
      "source": [
        "train_embeds = embedding_model2.predict(np.vstack((train_x[0], train_x[1], train_x[2])))"
      ],
      "execution_count": 0,
      "outputs": []
    },
    {
      "cell_type": "code",
      "metadata": {
        "colab_type": "code",
        "id": "XscrWCk0Tm45",
        "colab": {}
      },
      "source": [
        "target = np.hstack((train_y[0], train_y[1], train_y[2]))"
      ],
      "execution_count": 0,
      "outputs": []
    },
    {
      "cell_type": "code",
      "metadata": {
        "colab_type": "code",
        "id": "1h3bzWKwTm5A",
        "colab": {}
      },
      "source": [
        "from sklearn.neighbors import KNeighborsClassifier\n",
        "def fit_nearest_neighbor(img_encoding, img_class, algorithm='ball_tree'):\n",
        "  classifier = KNeighborsClassifier(n_neighbors=3, algorithm=algorithm)\n",
        "  classifier.fit(img_encoding, img_class)\n",
        "  return classifier"
      ],
      "execution_count": 0,
      "outputs": []
    },
    {
      "cell_type": "code",
      "metadata": {
        "colab_type": "code",
        "id": "Ge6_SAKpTm5F",
        "colab": {}
      },
      "source": [
        "classifier2 = fit_nearest_neighbor(train_embeds, target)"
      ],
      "execution_count": 0,
      "outputs": []
    },
    {
      "cell_type": "code",
      "metadata": {
        "colab_type": "code",
        "id": "EFLnVUYpTm5L",
        "colab": {}
      },
      "source": [
        "e2 = embedding_model2.predict(x_test_master)\n",
        "op2 = classifier2.predict(e2)"
      ],
      "execution_count": 0,
      "outputs": []
    },
    {
      "cell_type": "code",
      "metadata": {
        "colab_type": "code",
        "id": "Sx8tf9LWTm5P",
        "colab": {}
      },
      "source": [
        "# classifier.score(e, y_test_master)\n",
        "# target = y_test_master.flatten()\n",
        "# (np.where(target == op))[0].shape"
      ],
      "execution_count": 0,
      "outputs": []
    },
    {
      "cell_type": "code",
      "metadata": {
        "colab_type": "code",
        "outputId": "4b0c2e46-9b96-4b73-af37-5f0aa7a9b50b",
        "id": "MdaQqZsNTm5V",
        "colab": {
          "base_uri": "https://localhost:8080/",
          "height": 35
        }
      },
      "source": [
        "(np.where(y_test_master == op2))[0].shape[0] / y_test_master.shape[0]"
      ],
      "execution_count": 0,
      "outputs": [
        {
          "output_type": "execute_result",
          "data": {
            "text/plain": [
              "0.5184"
            ]
          },
          "metadata": {
            "tags": []
          },
          "execution_count": 49
        }
      ]
    },
    {
      "cell_type": "code",
      "metadata": {
        "colab_type": "code",
        "id": "dxDOQjGKTm5b",
        "colab": {}
      },
      "source": [
        "from sklearn.metrics import confusion_matrix\n",
        "mat = confusion_matrix(y_test_master, op2)"
      ],
      "execution_count": 0,
      "outputs": []
    },
    {
      "cell_type": "code",
      "metadata": {
        "colab_type": "code",
        "outputId": "2733471e-0d4a-4d66-80a1-15eabc2def84",
        "id": "ESIgCRMBTm5g",
        "colab": {
          "base_uri": "https://localhost:8080/",
          "height": 35
        }
      },
      "source": [
        "mat.diagonal()"
      ],
      "execution_count": 0,
      "outputs": [
        {
          "output_type": "execute_result",
          "data": {
            "text/plain": [
              "array([588, 868, 295, 148, 431, 357, 425, 695, 530, 847])"
            ]
          },
          "metadata": {
            "tags": []
          },
          "execution_count": 51
        }
      ]
    },
    {
      "cell_type": "markdown",
      "metadata": {
        "id": "RVek-Qok-qRb",
        "colab_type": "text"
      },
      "source": [
        "Training Examples per class | Siamese Accuracy (9 classes) | Baseline NN (9 classes) accuracy | Baseline NN - all classes | Siamese NN - all classes | Epochs  \n",
        "--- | --- | --- | --- | --- | ---\n",
        "500| 0.8133          | 0.743  | 0.8346 | 0.8121 |  40 \n",
        "300| 0.8096           | 0.7335  | 0.8128 | 0.805 | 40 \n",
        "200 | 0.7986 | 0.7154 | 0.7919   |0.7999  | 40 \n",
        "50 | 0.7566 | 0.6713 | 0.7265 | 0.7541 | 40 \n",
        "5 | 0.6503 | 0.5607 |0.6202 | 0.6474 | 40 \n",
        "1 | 0.4782 | 0.4545 |0.5084 | 0.52 | 40 \n",
        "1 | 0.4902 | 0.2713 |0.3494 | 0.5184 | 10 \n",
        "\n",
        "\n"
      ]
    },
    {
      "cell_type": "code",
      "metadata": {
        "id": "QBHqZ9YdPh80",
        "colab_type": "code",
        "colab": {}
      },
      "source": [],
      "execution_count": 0,
      "outputs": []
    }
  ]
}