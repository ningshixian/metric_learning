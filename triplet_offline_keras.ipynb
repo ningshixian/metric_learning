{
  "nbformat": 4,
  "nbformat_minor": 0,
  "metadata": {
    "colab": {
      "name": "few_shot_NLP.ipynb",
      "provenance": []
    },
    "kernelspec": {
      "name": "python3",
      "display_name": "Python 3",
      "language": "python"
    },
    "accelerator": "GPU"
  },
  "cells": [
    {
      "cell_type": "code",
      "execution_count": 1,
      "metadata": {},
      "outputs": [
        {
          "output_type": "stream",
          "name": "stderr",
          "text": [
            "Using TensorFlow backend.\n"
          ]
        }
      ],
      "source": [
        "import keras\n",
        "from keras.backend import tensorflow_backend\n",
        "import keras.backend as K\n",
        "import tensorflow as tf\n",
        "\n",
        "# 清空之前model占用的内存\n",
        "K.clear_session()\n",
        "tf.reset_default_graph()\n",
        "session_global = tf.Session()   # 创建一个会话，当上下文管理器退出时会话关闭和资源释放自动完成\n",
        "# session_global = tf.Session().as_default()  # 创建一个默认会话，当上下文管理器退出时会话并没有关闭\n",
        "tensorflow_backend.set_session(session_global)\n",
        "graph = tf.get_default_graph()  # 默认的数据流图DAG"
      ]
    },
    {
      "cell_type": "code",
      "execution_count": 2,
      "metadata": {},
      "outputs": [],
      "source": [
        "def clean(x):\n",
        "    x = re.sub(\"\\\"\", \"\", x)\n",
        "    x = re.sub(\"\\s\", \"\", x)  # \\s匹配任何空白字符，包括空格、制表符、换页符等\n",
        "    x = re.sub(\",\", \"，\", x)\n",
        "    return x"
      ]
    },
    {
      "cell_type": "code",
      "execution_count": 50,
      "metadata": {},
      "outputs": [],
      "source": [
        "import pandas as pd\n",
        "import os\n",
        "import csv\n",
        "import re\n",
        "\n",
        "with open(\"DatasetLXH/fewshot_train.csv\",\"w\", encoding='utf-8', newline='') as csvfile: \n",
        "    writer = csv.writer(csvfile)\n",
        "    writer.writerow(['knowledge_id','question','base_code'])\n",
        "    for filename in [r\"DatasetLXH/IT生产知识.xlsx\"]:\n",
        "        df=pd.read_excel(filename, usecols=[0,1,2,4], encoding='utf-8', keep_default_na=False)\n",
        "        for index, row in df.iterrows():\n",
        "            lines = []\n",
        "            kid, pri, sims, base_code = row\n",
        "            lines.append([kid, clean(pri), base_code])\n",
        "            for sim in sims.strip().strip(\"###\").split(\"###\"):\n",
        "                if sim:\n",
        "                    lines.append([kid, clean(sim), base_code])\n",
        "            writer.writerows(lines)\n",
        "\n",
        "with open(\"DatasetLXH/fewshot_train.csv\",encoding='utf-8') as csvfile:\n",
        "    for line in csvfile:\n",
        "        if not len(line.split(\",\"))==3 or '' in line.split(\",\"):\n",
        "            print(line)"
      ]
    },
    {
      "cell_type": "code",
      "execution_count": 22,
      "metadata": {
        "tags": []
      },
      "outputs": [],
      "source": [
        "sheet2base = {\n",
        "    \"HALO测试内容\":\"HALOBIGROOMBASE\", \n",
        "    \"差旅测试内容\":\"CLXTBASE\", \n",
        "    \"HR-π\":\"HRPBASE\", \n",
        "    \"成本管理平台\":\"CBGLXTBASE\", \n",
        "    \"场景化费用\":\"CJHFYXTBASE\", \n",
        "    \"供应商\":\"GYSGXGLPTBASE\", \n",
        "    \"商业资产\":\"C2ZGXTBASE\"\n",
        "}\n",
        "with open(\"DatasetLXH/fewshot_test.csv\",\"w\", encoding='utf-8', newline='') as csvfile: \n",
        "    writer = csv.writer(csvfile)\n",
        "    writer.writerow(['knowledge_id','question','base_code'])\n",
        "    for filename in [r\"DatasetLXH/HALO_差旅_HR-_成本管理测试集123123.xlsx\"]:\n",
        "        for sheet_name, base_code in sheet2base.items():\n",
        "            df=pd.read_excel(filename, sheet_name=sheet_name, usecols=[0,3], encoding='utf-8', keep_default_na=False)\n",
        "            for index, row in df.iterrows():\n",
        "                lines = []\n",
        "                query, kid = row\n",
        "                if kid:\n",
        "                    lines.append([clean(str(kid)), clean(query), base_code])\n",
        "                    writer.writerows(lines)\n",
        "\n",
        "with open(\"DatasetLXH/fewshot_test.csv\",encoding='utf-8') as csvfile:\n",
        "    for line in csvfile:\n",
        "        if not len(line.split(\",\"))==3 or '' in line.split(\",\"):\n",
        "            print(line)\n",
        "\n",
        "# data = pd.read_csv(\"DatasetLXH/train.csv\",engine='python')\n",
        "# for index,row in data.iterrows():\n",
        "#     pass"
      ]
    },
    {
      "cell_type": "code",
      "metadata": {
        "id": "o4jEF6D8M30S"
      },
      "source": [
        "import pandas as pd\n",
        "import numpy as np\n",
        "\n",
        "test = pd.read_csv('DatasetLXH/fewshot_test.csv')       #[:200]\n",
        "train = pd.read_csv('DatasetLXH/fewshot_train.csv')     #[:200]"
      ],
      "execution_count": 3,
      "outputs": []
    },
    {
      "cell_type": "code",
      "metadata": {
        "id": "60WwCUEdNNs9"
      },
      "source": [
        "train=train[['knowledge_id','question', 'base_code']]\n",
        "test=test[['knowledge_id','question', 'base_code']]"
      ],
      "execution_count": 4,
      "outputs": []
    },
    {
      "cell_type": "code",
      "metadata": {
        "id": "s2dnNQecNVs7"
      },
      "source": [
        "import os\n",
        "import keras\n",
        "from keras.models import Model\n",
        "from keras.layers import *\n",
        "from bert4keras.backend import search_layer\n",
        "from bert4keras.models import build_transformer_model as build_bert_model\n",
        "\n",
        "\n",
        "root = r\"D:\\#Pre-trained_Language_Model\\weights\\bert\\chinese_L-12_H-768_A-12\"\n",
        "bert_model = build_bert_model(\n",
        "    os.path.join(root, \"bert_config.json\"), \n",
        "    os.path.join(root, 'bert_model.ckpt'),\n",
        "    model='bert'\n",
        ")   # embed\n",
        "\n",
        "x1_in = Input(shape=(None,))\n",
        "x2_in = Input(shape=(None,))\n",
        "x = bert_model([x1_in, x2_in])\n",
        "x = Lambda(lambda x: x[:, 0])(x)    # first_token\n",
        "x = Dense(256, activation='relu')(x)\n",
        "x = Dropout(0.4)(x)\n",
        "x = BatchNormalization()(x)\n",
        "x = Dense(64, activation='relu', kernel_regularizer=keras.regularizers.l2(0.001))(x)\n",
        "x = Dropout(0.4)(x)\n",
        "dense_layer = Dense(128, name='dense_layer')(x)\n",
        "norm_layer = Lambda(lambda  x: K.l2_normalize(x, axis=1), name='norm_layer')(dense_layer)\n",
        "\n",
        "model=Model(inputs=[x1_in, x2_in], outputs=norm_layer)\n",
        "model.summary()"
      ],
      "execution_count": 7,
      "outputs": [
        {
          "output_type": "stream",
          "name": "stdout",
          "text": [
            "Model: \"model_5\"\n__________________________________________________________________________________________________\nLayer (type)                    Output Shape         Param #     Connected to                     \n==================================================================================================\ninput_5 (InputLayer)            (None, None)         0                                            \n__________________________________________________________________________________________________\ninput_6 (InputLayer)            (None, None)         0                                            \n__________________________________________________________________________________________________\nmodel_4 (Model)                 (None, None, 768)    101677056   input_5[0][0]                    \n                                                                 input_6[0][0]                    \n__________________________________________________________________________________________________\nlambda_3 (Lambda)               (None, 768)          0           model_4[1][0]                    \n__________________________________________________________________________________________________\ndense_221 (Dense)               (None, 256)          196864      lambda_3[0][0]                   \n__________________________________________________________________________________________________\ndropout_5 (Dropout)             (None, 256)          0           dense_221[0][0]                  \n__________________________________________________________________________________________________\nbatch_normalization_3 (BatchNor (None, 256)          1024        dropout_5[0][0]                  \n__________________________________________________________________________________________________\ndense_222 (Dense)               (None, 64)           16448       batch_normalization_3[0][0]      \n__________________________________________________________________________________________________\ndropout_6 (Dropout)             (None, 64)           0           dense_222[0][0]                  \n__________________________________________________________________________________________________\ndense_layer (Dense)             (None, 128)          8320        dropout_6[0][0]                  \n__________________________________________________________________________________________________\nnorm_layer (Lambda)             (None, 128)          0           dense_layer[0][0]                \n==================================================================================================\nTotal params: 101,899,712\nTrainable params: 101,899,200\nNon-trainable params: 512\n__________________________________________________________________________________________________\n"
          ]
        }
      ]
    },
    {
      "cell_type": "code",
      "execution_count": 8,
      "metadata": {},
      "outputs": [],
      "source": [
        "import tensorflow as tf\n",
        "from keras import backend as K\n",
        "from keras.layers import Input, Layer\n",
        "from bert4keras.tokenizers import Tokenizer\n",
        "tokenizer = Tokenizer(os.path.join(root, 'vocab.txt'))  # 建立分词器\n",
        "\n",
        "def triplet_loss(model_anchor, model_positive, model_negative, margin):\n",
        "    distance1 = tf.sqrt(tf.reduce_sum(tf.pow(model_anchor - model_positive, 2), 1, keepdims=True))\n",
        "    distance2 = tf.sqrt(tf.reduce_sum(tf.pow(model_anchor - model_negative, 2), 1, keepdims=True))\n",
        "    return tf.reduce_mean(tf.maximum(distance1 - distance2 + margin, 0)) + 1e-9\n",
        "\n",
        "class TripletLossLayer(Layer):\n",
        "    def __init__(self, alpha, **kwargs):\n",
        "        self.alpha = alpha\n",
        "        super(TripletLossLayer, self).__init__(**kwargs)\n",
        "    \n",
        "    def triplet_loss(self, inputs):\n",
        "        a, p, n = inputs\n",
        "        p_dist = K.sqrt(K.sum(K.square(a-p), axis=-1))\n",
        "        n_dist = K.sqrt(K.sum(K.square(a-n), axis=-1))\n",
        "        return K.mean(K.maximum(p_dist - n_dist + self.alpha, 0), axis=0)\n",
        "    \n",
        "    def call(self, inputs):\n",
        "        loss = self.triplet_loss(inputs)\n",
        "        self.add_loss(loss)\n",
        "        return loss"
      ]
    },
    {
      "source": [
        "4. Triplet Loss and Training Network\n",
        "\n",
        "I have constructed the triplet loss and returned the sum of the losses, you can also take its mean. While taking mean u must ensure that u are doing hard negative mining of the **triplets(anchor, positive and negative)** selected.The concept of **Hard negative mining** is well explained in the reference videos shared above."
      ],
      "cell_type": "markdown",
      "metadata": {}
    },
    {
      "cell_type": "code",
      "execution_count": 9,
      "metadata": {},
      "outputs": [
        {
          "output_type": "stream",
          "name": "stdout",
          "text": [
            "Model: \"model_6\"\n__________________________________________________________________________________________________\nLayer (type)                    Output Shape         Param #     Connected to                     \n==================================================================================================\nanchor_input (InputLayer)       (None, None)         0                                            \n__________________________________________________________________________________________________\ninput_7 (InputLayer)            (None, None)         0                                            \n__________________________________________________________________________________________________\npositive_input (InputLayer)     (None, None)         0                                            \n__________________________________________________________________________________________________\ninput_8 (InputLayer)            (None, None)         0                                            \n__________________________________________________________________________________________________\nnegative_input (InputLayer)     (None, None)         0                                            \n__________________________________________________________________________________________________\ninput_9 (InputLayer)            (None, None)         0                                            \n__________________________________________________________________________________________________\nmodel_5 (Model)                 (None, 128)          101899712   anchor_input[0][0]               \n                                                                 input_7[0][0]                    \n                                                                 positive_input[0][0]             \n                                                                 input_8[0][0]                    \n                                                                 negative_input[0][0]             \n                                                                 input_9[0][0]                    \n__________________________________________________________________________________________________\ntriplet_loss_layer (TripletLoss [(None, 128), (None, 0           model_5[1][0]                    \n                                                                 model_5[2][0]                    \n                                                                 model_5[3][0]                    \n==================================================================================================\nTotal params: 101,899,712\nTrainable params: 101,899,200\nNon-trainable params: 512\n__________________________________________________________________________________________________\n"
          ]
        }
      ],
      "source": [
        "from keras import backend as K\n",
        "from keras.backend import tensorflow_backend\n",
        "from keras.models import Model\n",
        "from keras.layers import Input, Layer\n",
        "\n",
        "# Input for anchor, positive and negative images\n",
        "x1_in = Input(shape=(None,), name=\"anchor_input\")\n",
        "x2_in = Input(shape=(None,))\n",
        "\n",
        "x3_in = Input(shape=(None,), name=\"positive_input\")\n",
        "x4_in = Input(shape=(None,))\n",
        "\n",
        "x5_in = Input(shape=(None,), name=\"negative_input\")\n",
        "x6_in = Input(shape=(None,))\n",
        "\n",
        "# Output for anchor, positive and negative embedding vectors\n",
        "# The bert_model instance is shared (Siamese network)\n",
        "emb_a = model([x1_in, x2_in])\n",
        "emb_p = model([x3_in, x4_in])\n",
        "emb_n = model([x5_in, x6_in])\n",
        "\n",
        "# Layer that computes the triplet loss from anchor, positive and negative embedding vectors\n",
        "triplet_loss_layer = TripletLossLayer(alpha=0.4, name='triplet_loss_layer')([emb_a, emb_p, emb_n])\n",
        "# Model that can be trained with anchor, positive negative images\n",
        "train_model = Model([x1_in, x2_in, x3_in, x4_in, x5_in, x6_in], triplet_loss_layer)\n",
        "\n",
        "# # BYJ\n",
        "# train_model = Model([x1_in, x2_in, x3_in, x4_in, x5_in, x6_in], x_a)\n",
        "# final_loss = triplet_loss(x, x_p, x_n, 0.1)\n",
        "# train_model.add_loss(final_loss)\n",
        "\n",
        "train_model.summary()"
      ]
    },
    {
      "cell_type": "code",
      "metadata": {
        "id": "MbTlUbgMMhqD",
        "tags": []
      },
      "source": [
        "import numpy as np\n",
        "from tqdm import tqdm\n",
        "maxlen = 512\n",
        "use_postag = False\n",
        "\n",
        "unique_train_label=np.array(train['knowledge_id'].unique().tolist())\n",
        "labels_train=np.array(train['knowledge_id'].tolist())\n",
        "map_train_label_indices = {label: np.flatnonzero(labels_train == label) for label in unique_train_label}    # 非零元素的索引\n",
        "# print(\"1: \", len(unique_train_label))\n",
        "# print(\"2: \", map_train_label_indices[33389])"
      ],
      "execution_count": 11,
      "outputs": [
        {
          "output_type": "stream",
          "name": "stdout",
          "text": [
            "1:  2126\n2:  [28343 28344 28345 28346 28347 28348 28349 28350 28351 28352 28353]\n"
          ]
        }
      ]
    },
    {
      "cell_type": "code",
      "execution_count": 12,
      "metadata": {},
      "outputs": [],
      "source": [
        "def seq_padding(X, padding=0):\n",
        "    L = [len(x) for x in X]\n",
        "    ML = max(L) if L else 0\n",
        "    return np.array(\n",
        "        [\n",
        "            np.concatenate([x, [padding] * (ML - len(x))]) if len(x) < ML else x\n",
        "            for x in X\n",
        "        ]\n",
        "    )\n",
        "\n",
        "def _trim_input(title,\n",
        "                t_max_len=30, q_max_len=0, a_max_len=0):\n",
        "    if use_postag:\n",
        "        #masked_sent_without_verb, masked_sent_only_verb = mask_sent_by_verb(title)\n",
        "        masked_sent_without_verb = title\n",
        "        masked_sent_only_verb = title\n",
        "        x1, x2 = tokenizer.encode(masked_sent_without_verb, masked_sent_only_verb)\n",
        "    else:\n",
        "        x1, x2 = tokenizer.encode(title, maxlen=t_max_len)\n",
        "        # x1, x2 = tokenizer.encode(title,title)\n",
        "    if len(x1) > maxlen:\n",
        "        if use_postag:\n",
        "            t0_x1, t0_x2 = tokenizer.encode(masked_sent_without_verb, masked_sent_only_verb)\n",
        "        else:\n",
        "            t0_x1, t0_x2 = tokenizer.encode(title,)\n",
        "        q0_x1, q0_x2 = tokenizer.encode('')\n",
        "        a0_x1, a0_x2 = tokenizer.encode('')\n",
        "\n",
        "        head_tag_x1, head_tag_x2 = [t0_x1[0]], [t0_x2[0]]\n",
        "        tail_tag_x1, tail_tag_x2 = [t0_x1[-1]], [t0_x2[-1]]\n",
        "\n",
        "        t_x1, t_x2 = t0_x1[1:-1], t0_x2[1:-1]\n",
        "        q_x1, q_x2 = q0_x1[1:-1], q0_x2[1:-1]\n",
        "        a_x1, a_x2 = a0_x1[1:-1], a0_x2[1:-1]\n",
        "\n",
        "        t_len = len(t_x1)\n",
        "        q_len = len(q_x1)\n",
        "        a_len = len(a_x1)\n",
        "\n",
        "        if t_max_len > t_len:\n",
        "            t_new_len = t_len\n",
        "            a_max_len = a_max_len + math.floor((t_max_len - t_len) / 2)\n",
        "            q_max_len = q_max_len + math.ceil((t_max_len - t_len) / 2)\n",
        "        else:\n",
        "            t_new_len = t_max_len\n",
        "\n",
        "        if a_max_len > a_len:\n",
        "            a_new_len = a_len\n",
        "            q_new_len = q_max_len + (a_max_len - a_len)\n",
        "        elif q_max_len > q_len:\n",
        "            a_new_len = a_max_len + (q_max_len - q_len)\n",
        "            q_new_len = q_len\n",
        "        else:\n",
        "            a_new_len = a_max_len\n",
        "            q_new_len = q_max_len\n",
        "\n",
        "        x1 = head_tag_x1 + t_x1[:t_new_len] + q_x1[:q_new_len] + a_x1[:a_new_len] + tail_tag_x1\n",
        "        x2 = head_tag_x2 + t_x2[:t_new_len] + q_x2[:q_new_len] + a_x2[:a_new_len] + tail_tag_x2\n",
        "\n",
        "    if len(x1) > maxlen:\n",
        "        print('x1!!!!', len(x1))\n",
        "    if len(x2) > maxlen:\n",
        "        print('x2!!!!', len(x2))\n",
        "    return x1, x2\n",
        "\n",
        "def compute_input_arrays(input_arrays):\n",
        "    x1_, x2_ = [], []\n",
        "    for instance in tqdm(input_arrays):\n",
        "        x1, x2 = _trim_input(instance[:maxlen], t_max_len=maxlen)\n",
        "        x1_.append(x1)\n",
        "        x2_.append(x2)\n",
        "    x1_ = seq_padding(x1_)\n",
        "    x2_ = seq_padding(x2_)\n",
        "    return [x1_, x2_]"
      ]
    },
    {
      "cell_type": "code",
      "metadata": {
        "id": "pkyZSYt3QMif",
        "tags": []
      },
      "source": [
        "def get_triplets(unique_train_label,map_train_label_indices):\n",
        "      label_l, label_r = np.random.choice(unique_train_label, 2, replace=False)\n",
        "      while len(map_train_label_indices[label_l])<2:\n",
        "        label_l, label_r = np.random.choice(unique_train_label, 2, replace=False)\n",
        "      a, p = np.random.choice(map_train_label_indices[label_l],2, replace=False)\n",
        "        \n",
        "      n = np.random.choice(map_train_label_indices[label_r])\n",
        "      return a, p, n\n",
        "\n",
        "def get_triplets_batch(k,train_set,unique_train_label,map_train_label_indices):\n",
        "\n",
        "    while True:\n",
        "      idxs_a, idxs_p, idxs_n = [], [], []\n",
        "      for _ in range(k):\n",
        "          a, p, n = get_triplets(unique_train_label,map_train_label_indices)\n",
        "          idxs_a.append(a)\n",
        "          idxs_p.append(p)\n",
        "          idxs_n.append(n)\n",
        "\n",
        "      a=train_set.iloc[idxs_a].values.tolist()\n",
        "      b=train_set.iloc[idxs_p].values.tolist()\n",
        "      c=train_set.iloc[idxs_n].values.tolist()\n",
        "\n",
        "      train_in = []\n",
        "      train_in.extend(compute_input_arrays(a))\n",
        "      train_in.extend(compute_input_arrays(b))\n",
        "      train_in.extend(compute_input_arrays(c)) \n",
        "\n",
        "      yield train_in, []  # data, label\n",
        "\n",
        "# train_data = get_triplets_batch(128,train['question'],unique_train_label,map_train_label_indices)\n",
        "# for item in train_data:\n",
        "#     print(item)"
      ],
      "execution_count": 13,
      "outputs": []
    },
    {
      "cell_type": "code",
      "metadata": {
        "id": "V8StfXHYkPLr",
        "outputId": "a51991c9-c15d-4647-9b18-55880ff2aec3",
        "colab": {
          "base_uri": "https://localhost:8080/",
          "height": 1000
        }
      },
      "source": [
        "with session_global.as_default():\n",
        "    with session_global.graph.as_default(): # 用with新建一个graph，这样在运行完以及异常退出时就会释放内存\n",
        "        # Adam= Adam(min_learning_rate)\n",
        "        train_model.compile(loss=None, optimizer='adam')\n",
        "        train_model.fit(get_triplets_batch(128,train['question'],unique_train_label,map_train_label_indices), epochs=100,steps_per_epoch=10)"
      ],
      "execution_count": 132,
      "outputs": [
        {
          "output_type": "stream",
          "name": "stderr",
          "text": [
            "E:\\Python\\Python37\\lib\\site-packages\\keras\\engine\\training_utils.py:819: UserWarning: Output triplet_loss_layer missing from loss dictionary. We assume this was done on purpose. The fit and evaluate APIs will not be expecting any data to be passed to triplet_loss_layer.\n",
            "  'be expecting any data to be passed to {0}.'.format(name))\n",
            "100%|██████████| 128/128 [00:00<00:00, 4942.47it/s]\n",
            "100%|██████████| 128/128 [00:00<00:00, 12834.28it/s]\n",
            "100%|██████████| 128/128 [00:00<00:00, 21384.17it/s]Epoch 1/100\n",
            "\n",
            "100%|██████████| 128/128 [00:00<00:00, 25664.27it/s]\n",
            "100%|██████████| 128/128 [00:00<00:00, 21391.84it/s]\n",
            "100%|██████████| 128/128 [00:00<00:00, 18334.50it/s]\n",
            "100%|██████████| 128/128 [00:00<00:00, 21397.80it/s]\n",
            "100%|██████████| 128/128 [00:00<00:00, 9166.63it/s]\n",
            "100%|██████████| 128/128 [00:00<00:00, 9164.28it/s]\n",
            "100%|██████████| 128/128 [00:00<00:00, 18338.26it/s]\n",
            "100%|██████████| 128/128 [00:00<00:00, 18335.76it/s]\n",
            "100%|██████████| 128/128 [00:00<00:00, 7550.08it/s]\n",
            "100%|██████████| 128/128 [00:00<00:00, 18334.50it/s]\n",
            "100%|██████████| 128/128 [00:00<00:00, 9876.76it/s]\n",
            "100%|██████████| 128/128 [00:00<00:00, 14261.03it/s]\n",
            "100%|██████████| 128/128 [00:00<00:00, 11665.78it/s]\n",
            "100%|██████████| 128/128 [00:00<00:00, 9175.40it/s]\n",
            "100%|██████████| 128/128 [00:00<00:00, 16042.76it/s]\n",
            "100%|██████████| 128/128 [00:00<00:00, 12834.90it/s]\n",
            "100%|██████████| 128/128 [00:00<00:00, 10693.36it/s]\n",
            "100%|██████████| 128/128 [00:00<00:00, 21396.10it/s]\n",
            "100%|██████████| 128/128 [00:00<00:00, 12835.20it/s]\n",
            "100%|██████████| 128/128 [00:00<00:00, 18356.44it/s]\n",
            "100%|██████████| 128/128 [00:00<00:00, 18328.24it/s]\n",
            "100%|██████████| 128/128 [00:00<00:00, 11667.05it/s]\n",
            "100%|██████████| 128/128 [00:00<00:00, 18380.95it/s]\n",
            "100%|██████████| 128/128 [00:00<00:00, 10695.49it/s]\n",
            "100%|██████████| 128/128 [00:00<00:00, 11681.26it/s]\n",
            "100%|██████████| 128/128 [00:00<00:00, 16042.28it/s]\n",
            "100%|██████████| 128/128 [00:00<00:00, 16045.16it/s]\n",
            "100%|██████████| 128/128 [00:00<00:00, 12831.22it/s]\n",
            "100%|██████████| 128/128 [00:00<00:00, 12841.96it/s]\n",
            "100%|██████████| 128/128 [00:00<00:00, 9168.50it/s]\n",
            "100%|██████████| 128/128 [00:00<00:00, 18336.38it/s]\n",
            "100%|██████████| 128/128 [00:00<00:00, 18337.63it/s]\n",
            "100%|██████████| 128/128 [00:00<00:00, 11667.05it/s]\n"
          ]
        }
      ]
    },
    {
      "cell_type": "code",
      "metadata": {
        "id": "G3K0iR2-lE7h"
      },
      "source": [
        "# with session_global.as_default():\n",
        "#     with session_global.graph.as_default(): # 用with新建一个graph，这样在运行完以及异常退出时就会释放内存\n",
        "#         X_train = model.predict(np.array(train['question'].values.tolist()))\n",
        "#         X_test = model.predict(np.array(test['question'].values.tolist()))\n",
        "\n",
        "#         y_train = np.array(train['knowledge_id'].values.tolist())\n",
        "#         y_test = np.array(test['knowledge_id'].values.tolist())"
      ],
      "execution_count": null,
      "outputs": []
    },
    {
      "cell_type": "code",
      "metadata": {
        "id": "7MFx_xCclE9Z",
        "outputId": "a0a2f7a5-81d8-4f26-c643-b02982b836a0",
        "colab": {
          "base_uri": "https://localhost:8080/",
          "height": 34
        }
      },
      "source": [
        "# from sklearn.preprocessing import LabelEncoder\n",
        "# from sklearn.neighbors import KNeighborsClassifier\n",
        "# from sklearn.svm import LinearSVC\n",
        "\n",
        "# knn = KNeighborsClassifier(n_neighbors=5, metric='euclidean')\n",
        "# svc = LinearSVC()\n",
        "\n",
        "# knn.fit(X_train, y_train)\n",
        "# svc.fit(X_train, y_train)\n",
        "\n",
        "# y_pred_knn = knn.predict(X_test)\n",
        "# acc_knn = accuracy_score(y_test, y_pred_knn)\n",
        "# y_pred_svc = svc.predict(X_test)\n",
        "# acc_svc = accuracy_score(y_test, y_pred_svc)\n",
        "\n",
        "# print(f'KNN accuracy = {acc_knn}, SVM accuracy = {acc_svc}')"
      ],
      "execution_count": 48,
      "outputs": [
        {
          "output_type": "stream",
          "text": [
            "KNN accuracy = 0.8764113518462008, SVM accuracy = 0.8748855660665242\n"
          ],
          "name": "stdout"
        }
      ]
    },
    {
      "cell_type": "code",
      "metadata": {
        "id": "rjJwsUVvtl1R",
        "outputId": "43e8b1cf-3669-4b52-b279-3a9f8e983818",
        "colab": {
          "base_uri": "https://localhost:8080/",
          "height": 221
        }
      },
      "source": [
        "\n",
        "from sklearn.metrics import classification_report, f1_score\n",
        "unique_test_base = test['base_code'].unique().tolist()\n",
        "\n",
        "all_pred_1_list, all_val_1_list = [], []\n",
        "for base in tqdm(unique_test_base):\n",
        "    test_data = test[test['base_code']==base]    # test\n",
        "    querys = test_data[\"question\"].tolist()[:64]\n",
        "    labels_test = test_data['knowledge_id'].tolist()[:64]\n",
        "    valid_inputs = compute_input_arrays(querys)\n",
        "    valid_predictions = []\n",
        "    valid_predictions.append(\n",
        "        model.predict(valid_inputs, batch_size=16)\n",
        "    )\n",
        "    # print(train['knowledge_id'])\n",
        "    # print(list(map(lambda x:int(x), labels_test)))\n",
        "\n",
        "    # candidate_data = train[train['base_code']==base]    # candidate\n",
        "    candidate_data = train[train['knowledge_id'].isin(list(map(lambda x:int(x[:5]), labels_test)))]    # candidate\n",
        "    querys_cand = candidate_data[\"question\"]\n",
        "    labels_cand = candidate_data['knowledge_id'].astype(str).tolist()\n",
        "    cand_inputs = compute_input_arrays(querys_cand)\n",
        "    cand_vecs = model.predict(cand_inputs, batch_size=16)  # primary embeddings\n",
        "\n",
        "    pred_1_list, val_1_list = [], []\n",
        "    for idx, one in enumerate(valid_predictions[-1]):\n",
        "        # 正确kid列表\n",
        "        one_anwser_list = labels_test[idx].split(\"###\")\n",
        "        one_anwser_list = [str(int(one_a)) for one_a in one_anwser_list]\n",
        "        # 预测的kid\n",
        "        dot_list = np.dot(cand_vecs, one)   # 点积\n",
        "        max_idx = np.argmax(dot_list)\n",
        "        pred_one = str(int(labels_cand[max_idx]))  \n",
        "        # top1预测结果\n",
        "        if one_anwser_list[0] not in labels_cand:\n",
        "            print(one_anwser_list, \" not in candidate set\")\n",
        "            continue\n",
        "        if pred_one in one_anwser_list:\n",
        "            val_1_list.append(pred_one)\n",
        "        else:\n",
        "            try:\n",
        "                val_1_list.append(one_anwser_list[0])\n",
        "                print(\n",
        "                    \"wrong {} pid:{} kid:{}\".format(\n",
        "                        querys[idx], pred_one, one_anwser_list,\n",
        "                    )\n",
        "                )\n",
        "            except:\n",
        "                print(\"error: \", idx)\n",
        "        pred_1_list.append(pred_one)\n",
        "\n",
        "    print(\"base: \", base)\n",
        "    # top1 report 版本0.21.x以上\n",
        "    report = classification_report(\n",
        "        val_1_list, pred_1_list, digits=4, output_dict=True\n",
        "    )\n",
        "    print(\"Top1 micro avg\", report[\"accuracy\"])\n",
        "    print(\"Top1 macro avg\", report[\"macro avg\"])\n",
        "    print(\"Top1 weighted avg\", report[\"weighted avg\"])\n",
        "\n",
        "    all_pred_1_list.extend(pred_1_list)\n",
        "    all_val_1_list.extend(val_1_list)\n",
        "\n",
        "print(\"ALL\")\n",
        "# top1 report 版本0.21.x以上\n",
        "report = classification_report(\n",
        "    all_val_1_list, all_pred_1_list, digits=4, output_dict=True\n",
        ")\n",
        "print(\"Top1 micro avg\", report[\"accuracy\"])\n",
        "print(\"Top1 macro avg\", report[\"macro avg\"])\n",
        "print(\"Top1 weighted avg\", report[\"weighted avg\"])\n",
        "f1 = f1_score(all_val_1_list, all_pred_1_list, average=\"weighted\")\n",
        "if f1 > self.f1:\n",
        "    print(\"epoch:{} 当前最佳f1-score！\".format(epoch))\n",
        "    self.f1 = f1\n",
        "    self.model.save_weights(\"it_nlu-{name}.h5\".format(name=epoch))"
      ],
      "execution_count": 41,
      "outputs": [
        {
          "output_type": "stream",
          "name": "stderr",
          "text": [
            "  0%|          | 0/7 [00:00<?, ?it/s]\n",
            "100%|██████████| 64/64 [00:00<00:00, 12838.27it/s]\n",
            "\n",
            "100%|██████████| 544/544 [00:00<00:00, 23721.76it/s]\n",
            " 14%|█▍        | 1/7 [01:02<06:15, 62.66s/it]\n",
            "100%|██████████| 27/27 [00:00<00:00, 27183.44it/s]wrong halo平台账号进入后无审图项目 pid:29405 kid:['29388']\n",
            "wrong halo审图软件升级安装失败 pid:29405 kid:['29401']\n",
            "wrong halo平台无权限，无法填写会议纪要 pid:32182 kid:['29375']\n",
            "wrong halou平台增加到郑州项目和华中权限 pid:32187 kid:['29375']\n",
            "wrong 幸福林带策划：需要halo虚拟样板间下单地址 pid:32187 kid:['29407']\n",
            "wrong halo更新后如何导出审图意见 pid:29404 kid:['29409']\n",
            "wrong halo下载异常无法安装 pid:29405 kid:['29401']\n",
            "wrong 无法打开halo pid:32150 kid:['29377', '29375']\n",
            "wrong 无法下载halo平台里的图纸 pid:29405 kid:['32173', '32174']\n",
            "wrong 没有Halo协同平台的权限 pid:32187 kid:['29375']\n",
            "wrong 如何设置多节点任务提醒 pid:32185 kid:['32115']\n",
            "wrong halo审图登陆 pid:29401 kid:['29377', '32184']\n",
            "wrong HALO会议，无法编辑添加会议地点 pid:29397 kid:['32129', '33265']\n",
            "wrong 登录halo平台任务选项，显示没有该页面权限，电脑提示让我联系it。 pid:32183 kid:['32119']\n",
            "wrong 需要开通HALO“C3预案团队”权限 pid:29375 kid:['32187']\n",
            "wrong 因职能工作需要，现申请开通HALO广州公司各项目审核文档权限，请IT同事协助开通，谢谢 pid:32182 kid:['29375']\n",
            "wrong HALO平台供方权限开通 pid:32187 kid:['29375', '32190']\n",
            "wrong HALOAPP安装及权限 pid:32187 kid:['29396', '29375']\n",
            "wrong halo-帮助手册打不开 pid:32173 kid:['29397']\n",
            "wrong HALO平台无法进入 pid:29377 kid:['29375']\n",
            "wrong halo审图平台提示更新，然后更新一直失败 pid:29405 kid:['29401']\n",
            "wrong 如何批量开外部人员halo审图权限 pid:32176 kid:['29383']\n",
            "wrong 供方反馈halo帐号被禁用了 pid:29405 kid:['32185']\n",
            "wrong Halo平台权限问题 pid:32187 kid:['29375']\n",
            "wrong halo审图软件升级安装失败 pid:29405 kid:['29401']\n",
            "wrong 请在halo里面增加我的权限 pid:29407 kid:['29377', '29375']\n",
            "wrong HALO审图软件安装 pid:29405 kid:['29396', '29401']\n",
            "wrong HALO平台创建空间 pid:29377 kid:['32187']\n",
            "wrong 一版施工图未见审图意见 pid:29388 kid:['29405', '29409']\n",
            "wrong 供方反馈halo帐号被禁用了 pid:29405 kid:['32185', '29379']\n",
            "wrong HALO项目运营会，点击导入历史任务无反应 pid:29375 kid:['32150']\n",
            "wrong 如何开通halo权限 pid:29404 kid:['29375']\n",
            "wrong 如何开通空间 pid:32135 kid:['32187']\n",
            "wrong halo3D平台上无法看到供方上传的模型 pid:29388 kid:['32176']\n",
            "wrong Halo上传图纸一直转圈 pid:32150 kid:['29398']\n",
            "wrong HALO平台手机版没有权限看各项目图纸 pid:32182 kid:['29375']\n",
            "base:  HALOBIGROOMBASE\n",
            "Top1 micro avg 0.4375\n",
            "Top1 macro avg {'precision': 0.3628717948717949, 'recall': 0.4116410256410256, 'f1-score': 0.3433804075405906, 'support': 64}\n",
            "Top1 weighted avg {'precision': 0.5010616987179487, 'recall': 0.4375, 'f1-score': 0.4249802495368856, 'support': 64}\n",
            "\n",
            "\n",
            "100%|██████████| 542/542 [00:00<00:00, 25882.51it/s]\n",
            " 29%|██▊       | 2/7 [01:43<04:40, 56.11s/it]\n",
            "100%|██████████| 37/37 [00:00<00:00, 9281.65it/s]wrong 差旅应用页面空白 pid:28378 kid:['28375']\n",
            "wrong 酒店添加同住人 pid:28375 kid:['28376']\n",
            "wrong 预算未刷新导致无法提起出差流程 pid:30169 kid:['32954']\n",
            "base:  CLXTBASE\n",
            "Top1 micro avg 0.8888888888888888\n",
            "Top1 macro avg {'precision': 0.9411764705882353, 'recall': 0.9215686274509803, 'f1-score': 0.9176470588235294, 'support': 27}\n",
            "Top1 weighted avg {'precision': 0.9135802469135802, 'recall': 0.8888888888888888, 'f1-score': 0.8839506172839506, 'support': 27}\n",
            "\n",
            "\n",
            "100%|██████████| 470/470 [00:00<00:00, 8726.95it/s]\n",
            " 29%|██▊       | 2/7 [02:13<05:34, 66.93s/it]\n"
          ]
        },
        {
          "output_type": "error",
          "ename": "KeyboardInterrupt",
          "evalue": "",
          "traceback": [
            "\u001b[1;31m---------------------------------------------------------------------------\u001b[0m",
            "\u001b[1;31mKeyboardInterrupt\u001b[0m                         Traceback (most recent call last)",
            "\u001b[1;32m<ipython-input-41-2722faccc8fe>\u001b[0m in \u001b[0;36m<module>\u001b[1;34m\u001b[0m\n\u001b[0;32m     20\u001b[0m     \u001b[0mlabels_cand\u001b[0m \u001b[1;33m=\u001b[0m \u001b[0mcandidate_data\u001b[0m\u001b[1;33m[\u001b[0m\u001b[1;34m'knowledge_id'\u001b[0m\u001b[1;33m]\u001b[0m\u001b[1;33m.\u001b[0m\u001b[0mastype\u001b[0m\u001b[1;33m(\u001b[0m\u001b[0mstr\u001b[0m\u001b[1;33m)\u001b[0m\u001b[1;33m.\u001b[0m\u001b[0mtolist\u001b[0m\u001b[1;33m(\u001b[0m\u001b[1;33m)\u001b[0m\u001b[1;33m\u001b[0m\u001b[1;33m\u001b[0m\u001b[0m\n\u001b[0;32m     21\u001b[0m     \u001b[0mcand_inputs\u001b[0m \u001b[1;33m=\u001b[0m \u001b[0mcompute_input_arrays\u001b[0m\u001b[1;33m(\u001b[0m\u001b[0mquerys_cand\u001b[0m\u001b[1;33m)\u001b[0m\u001b[1;33m\u001b[0m\u001b[1;33m\u001b[0m\u001b[0m\n\u001b[1;32m---> 22\u001b[1;33m     \u001b[0mcand_vecs\u001b[0m \u001b[1;33m=\u001b[0m \u001b[0mmodel\u001b[0m\u001b[1;33m.\u001b[0m\u001b[0mpredict\u001b[0m\u001b[1;33m(\u001b[0m\u001b[0mcand_inputs\u001b[0m\u001b[1;33m,\u001b[0m \u001b[0mbatch_size\u001b[0m\u001b[1;33m=\u001b[0m\u001b[1;36m16\u001b[0m\u001b[1;33m)\u001b[0m  \u001b[1;31m# primary embeddings\u001b[0m\u001b[1;33m\u001b[0m\u001b[1;33m\u001b[0m\u001b[0m\n\u001b[0m\u001b[0;32m     23\u001b[0m \u001b[1;33m\u001b[0m\u001b[0m\n\u001b[0;32m     24\u001b[0m     \u001b[0mpred_1_list\u001b[0m\u001b[1;33m,\u001b[0m \u001b[0mval_1_list\u001b[0m \u001b[1;33m=\u001b[0m \u001b[1;33m[\u001b[0m\u001b[1;33m]\u001b[0m\u001b[1;33m,\u001b[0m \u001b[1;33m[\u001b[0m\u001b[1;33m]\u001b[0m\u001b[1;33m\u001b[0m\u001b[1;33m\u001b[0m\u001b[0m\n",
            "\u001b[1;32mE:\\Python\\Python37\\lib\\site-packages\\keras\\engine\\training.py\u001b[0m in \u001b[0;36mpredict\u001b[1;34m(self, x, batch_size, verbose, steps, callbacks, max_queue_size, workers, use_multiprocessing)\u001b[0m\n\u001b[0;32m   1460\u001b[0m                                             \u001b[0mverbose\u001b[0m\u001b[1;33m=\u001b[0m\u001b[0mverbose\u001b[0m\u001b[1;33m,\u001b[0m\u001b[1;33m\u001b[0m\u001b[1;33m\u001b[0m\u001b[0m\n\u001b[0;32m   1461\u001b[0m                                             \u001b[0msteps\u001b[0m\u001b[1;33m=\u001b[0m\u001b[0msteps\u001b[0m\u001b[1;33m,\u001b[0m\u001b[1;33m\u001b[0m\u001b[1;33m\u001b[0m\u001b[0m\n\u001b[1;32m-> 1462\u001b[1;33m                                             callbacks=callbacks)\n\u001b[0m\u001b[0;32m   1463\u001b[0m \u001b[1;33m\u001b[0m\u001b[0m\n\u001b[0;32m   1464\u001b[0m     def train_on_batch(self, x, y,\n",
            "\u001b[1;32mE:\\Python\\Python37\\lib\\site-packages\\keras\\engine\\training_arrays.py\u001b[0m in \u001b[0;36mpredict_loop\u001b[1;34m(model, f, ins, batch_size, verbose, steps, callbacks)\u001b[0m\n\u001b[0;32m    322\u001b[0m             \u001b[0mbatch_logs\u001b[0m \u001b[1;33m=\u001b[0m \u001b[1;33m{\u001b[0m\u001b[1;34m'batch'\u001b[0m\u001b[1;33m:\u001b[0m \u001b[0mbatch_index\u001b[0m\u001b[1;33m,\u001b[0m \u001b[1;34m'size'\u001b[0m\u001b[1;33m:\u001b[0m \u001b[0mlen\u001b[0m\u001b[1;33m(\u001b[0m\u001b[0mbatch_ids\u001b[0m\u001b[1;33m)\u001b[0m\u001b[1;33m}\u001b[0m\u001b[1;33m\u001b[0m\u001b[1;33m\u001b[0m\u001b[0m\n\u001b[0;32m    323\u001b[0m             \u001b[0mcallbacks\u001b[0m\u001b[1;33m.\u001b[0m\u001b[0m_call_batch_hook\u001b[0m\u001b[1;33m(\u001b[0m\u001b[1;34m'predict'\u001b[0m\u001b[1;33m,\u001b[0m \u001b[1;34m'begin'\u001b[0m\u001b[1;33m,\u001b[0m \u001b[0mbatch_index\u001b[0m\u001b[1;33m,\u001b[0m \u001b[0mbatch_logs\u001b[0m\u001b[1;33m)\u001b[0m\u001b[1;33m\u001b[0m\u001b[1;33m\u001b[0m\u001b[0m\n\u001b[1;32m--> 324\u001b[1;33m             \u001b[0mbatch_outs\u001b[0m \u001b[1;33m=\u001b[0m \u001b[0mf\u001b[0m\u001b[1;33m(\u001b[0m\u001b[0mins_batch\u001b[0m\u001b[1;33m)\u001b[0m\u001b[1;33m\u001b[0m\u001b[1;33m\u001b[0m\u001b[0m\n\u001b[0m\u001b[0;32m    325\u001b[0m             \u001b[0mbatch_outs\u001b[0m \u001b[1;33m=\u001b[0m \u001b[0mto_list\u001b[0m\u001b[1;33m(\u001b[0m\u001b[0mbatch_outs\u001b[0m\u001b[1;33m)\u001b[0m\u001b[1;33m\u001b[0m\u001b[1;33m\u001b[0m\u001b[0m\n\u001b[0;32m    326\u001b[0m             \u001b[1;32mif\u001b[0m \u001b[0mbatch_index\u001b[0m \u001b[1;33m==\u001b[0m \u001b[1;36m0\u001b[0m\u001b[1;33m:\u001b[0m\u001b[1;33m\u001b[0m\u001b[1;33m\u001b[0m\u001b[0m\n",
            "\u001b[1;32mE:\\Python\\Python37\\lib\\site-packages\\tensorflow_core\\python\\keras\\backend.py\u001b[0m in \u001b[0;36m__call__\u001b[1;34m(self, inputs)\u001b[0m\n\u001b[0;32m   3474\u001b[0m \u001b[1;33m\u001b[0m\u001b[0m\n\u001b[0;32m   3475\u001b[0m     fetched = self._callable_fn(*array_vals,\n\u001b[1;32m-> 3476\u001b[1;33m                                 run_metadata=self.run_metadata)\n\u001b[0m\u001b[0;32m   3477\u001b[0m     \u001b[0mself\u001b[0m\u001b[1;33m.\u001b[0m\u001b[0m_call_fetch_callbacks\u001b[0m\u001b[1;33m(\u001b[0m\u001b[0mfetched\u001b[0m\u001b[1;33m[\u001b[0m\u001b[1;33m-\u001b[0m\u001b[0mlen\u001b[0m\u001b[1;33m(\u001b[0m\u001b[0mself\u001b[0m\u001b[1;33m.\u001b[0m\u001b[0m_fetches\u001b[0m\u001b[1;33m)\u001b[0m\u001b[1;33m:\u001b[0m\u001b[1;33m]\u001b[0m\u001b[1;33m)\u001b[0m\u001b[1;33m\u001b[0m\u001b[1;33m\u001b[0m\u001b[0m\n\u001b[0;32m   3478\u001b[0m     output_structure = nest.pack_sequence_as(\n",
            "\u001b[1;32mE:\\Python\\Python37\\lib\\site-packages\\tensorflow_core\\python\\client\\session.py\u001b[0m in \u001b[0;36m__call__\u001b[1;34m(self, *args, **kwargs)\u001b[0m\n\u001b[0;32m   1470\u001b[0m         ret = tf_session.TF_SessionRunCallable(self._session._session,\n\u001b[0;32m   1471\u001b[0m                                                \u001b[0mself\u001b[0m\u001b[1;33m.\u001b[0m\u001b[0m_handle\u001b[0m\u001b[1;33m,\u001b[0m \u001b[0margs\u001b[0m\u001b[1;33m,\u001b[0m\u001b[1;33m\u001b[0m\u001b[1;33m\u001b[0m\u001b[0m\n\u001b[1;32m-> 1472\u001b[1;33m                                                run_metadata_ptr)\n\u001b[0m\u001b[0;32m   1473\u001b[0m         \u001b[1;32mif\u001b[0m \u001b[0mrun_metadata\u001b[0m\u001b[1;33m:\u001b[0m\u001b[1;33m\u001b[0m\u001b[1;33m\u001b[0m\u001b[0m\n\u001b[0;32m   1474\u001b[0m           \u001b[0mproto_data\u001b[0m \u001b[1;33m=\u001b[0m \u001b[0mtf_session\u001b[0m\u001b[1;33m.\u001b[0m\u001b[0mTF_GetBuffer\u001b[0m\u001b[1;33m(\u001b[0m\u001b[0mrun_metadata_ptr\u001b[0m\u001b[1;33m)\u001b[0m\u001b[1;33m\u001b[0m\u001b[1;33m\u001b[0m\u001b[0m\n",
            "\u001b[1;31mKeyboardInterrupt\u001b[0m: "
          ]
        }
      ]
    },
    {
      "cell_type": "code",
      "metadata": {
        "id": "YczOJtb6tqVT",
        "outputId": "8f2e174b-6b14-4afa-c4a8-8fecd36ed6c3",
        "colab": {
          "base_uri": "https://localhost:8080/",
          "height": 595
        }
      },
      "source": [
        "from sklearn.manifold import TSNE\n",
        "\n",
        "X_embedded = TSNE(n_components=2).fit_transform(X_test)\n",
        "\n",
        "plt.figure(figsize=(10,10))\n",
        "\n",
        "for i, t in enumerate(set(y_test)):\n",
        "    idx = y_test == t\n",
        "    plt.scatter(X_embedded[idx, 0], X_embedded[idx, 1], label=t)   \n",
        "\n",
        "plt.legend(bbox_to_anchor=(1, 1));"
      ],
      "execution_count": 50,
      "outputs": [
        {
          "output_type": "display_data",
          "data": {
            "image/png": "[encoded data removed]",
            "text/plain": [
              "<Figure size 720x720 with 1 Axes>"
            ]
          },
          "metadata": {
            "tags": [],
            "needs_background": "light"
          }
        }
      ]
    },
    {
      "cell_type": "code",
      "metadata": {
        "id": "4ZFEAMaytqX2",
        "outputId": "a841abf9-3aee-43c3-e16d-d207fa14cf6c",
        "colab": {
          "base_uri": "https://localhost:8080/",
          "height": 592
        }
      },
      "source": [
        "from sklearn.manifold import TSNE\n",
        "\n",
        "X_embedded = TSNE(n_components=2).fit_transform(X_train)\n",
        "\n",
        "plt.figure(figsize=(10,10))\n",
        "\n",
        "for i, t in enumerate(set(y_train)):\n",
        "    idx = y_train == t\n",
        "    plt.scatter(X_embedded[idx, 0], X_embedded[idx, 1], label=t)   \n",
        "\n",
        "plt.legend(bbox_to_anchor=(1, 1));"
      ],
      "execution_count": 51,
      "outputs": [
        {
          "output_type": "display_data",
          "data": {
            "image/png": "[encoded data removed]",
            "text/plain": [
              "<Figure size 720x720 with 1 Axes>"
            ]
          },
          "metadata": {
            "tags": [],
            "needs_background": "light"
          }
        }
      ]
    }
  ]
}